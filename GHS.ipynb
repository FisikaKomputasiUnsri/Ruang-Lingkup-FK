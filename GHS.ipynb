{
  "nbformat": 4,
  "nbformat_minor": 0,
  "metadata": {
    "colab": {
      "provenance": [],
      "authorship_tag": "ABX9TyOudZ5eayGEKPsUljDxHiKf",
      "include_colab_link": true
    },
    "kernelspec": {
      "name": "python3",
      "display_name": "Python 3"
    },
    "language_info": {
      "name": "python"
    }
  },
  "cells": [
    {
      "cell_type": "markdown",
      "metadata": {
        "id": "view-in-github",
        "colab_type": "text"
      },
      "source": [
        "<a href=\"https://colab.research.google.com/github/FisikaKomputasiUnsri/Ruang-Lingkup-FK/blob/main/GHS.ipynb\" target=\"_parent\"><img src=\"https://colab.research.google.com/assets/colab-badge.svg\" alt=\"Open In Colab\"/></a>"
      ]
    },
    {
      "cell_type": "code",
      "execution_count": null,
      "metadata": {
        "id": "jP9evRDc0vQH"
      },
      "outputs": [],
      "source": [
        "# Gerak Harmonik Sederhana (GHS) didefinisikan sebagai gerak bolak-balik benda melalui suatu titik keseimbangan tertentu.\n",
        "# Gaya pemulih sebanding dan berlawanan arah dengan simpangannya.\n",
        "# Benda yang bergetar akan bergerak secara osilasi dan memungkinkan benda kembali ke keadaan semula setelah periode waktu tertentu.\n",
        "\n",
        "# shm_simulation.py\n",
        "# Script sederhana untuk mensimulasikan Gerak Harmonik Sederhana (SHM) dan menyimpan plot.\n",
        "# Parameter: ubah m, k, A, phi, t_max, dt sesuai kebutuhan.\n",
        "\n",
        "import numpy as np\n",
        "import matplotlib.pyplot as plt\n",
        "from math import pi\n",
        "\n",
        "m = 1.0\n",
        "k = 4.0\n",
        "A = 0.5\n",
        "phi = 0.0\n",
        "t_max = 10.0\n",
        "dt = 0.01\n",
        "\n",
        "omega = (k / m)**0.5\n",
        "f = omega / (2 * pi)\n",
        "T = 2 * pi / omega\n",
        "\n",
        "t = np.arange(0, t_max + dt, dt)\n",
        "x = A * np.cos(omega * t + phi)\n",
        "v = -A * omega * np.sin(omega * t + phi)\n",
        "a = -A * (omega**2) * np.cos(omega * t + phi)\n",
        "\n",
        "KE = 0.5 * m * v**2\n",
        "PE = 0.5 * k * x**2\n",
        "E_total = KE + PE\n",
        "\n",
        "plt.figure()\n",
        "plt.plot(t, x)\n",
        "plt.title(\"Posisi x(t) — Gerak Harmonik Sederhana\")\n",
        "plt.xlabel(\"Waktu (s)\")\n",
        "plt.ylabel(\"Posisi x (m)\")\n",
        "plt.grid(True)\n",
        "plt.savefig(\"shm_x_vs_t.png\", dpi=150, bbox_inches='tight')\n",
        "plt.close()\n",
        "\n",
        "plt.figure()\n",
        "plt.plot(t, v)\n",
        "plt.title(\"Kecepatan v(t) — Gerak Harmonik Sederhana\")\n",
        "plt.xlabel(\"Waktu (s)\")\n",
        "plt.ylabel(\"Kecepatan v (m/s)\")\n",
        "plt.grid(True)\n",
        "plt.savefig(\"shm_v_vs_t.png\", dpi=150, bbox_inches='tight')\n",
        "plt.close()\n",
        "\n",
        "plt.figure()\n",
        "plt.plot(t, a)\n",
        "plt.title(\"Percepatan a(t) — Gerak Harmonik Sederhana\")\n",
        "plt.xlabel(\"Waktu (s)\")\n",
        "plt.ylabel(\"Percepatan a (m/s^2)\")\n",
        "plt.grid(True)\n",
        "plt.savefig(\"shm_a_vs_t.png\", dpi=150, bbox_inches='tight')\n",
        "plt.close()\n",
        "\n",
        "plt.figure()\n",
        "plt.plot(t, KE, label='Energi Kinetik (KE)')\n",
        "plt.plot(t, PE, label='Energi Potensial (PE)')\n",
        "plt.plot(t, E_total, label='Energi Total (KE+PE)', linestyle='--')\n",
        "plt.title(\"Energi vs Waktu — Gerak Harmonik Sederhana\")\n",
        "plt.xlabel(\"Waktu (s)\")\n",
        "plt.ylabel(\"Energi (J)\")\n",
        "plt.legend()\n",
        "plt.grid(True)\n",
        "plt.savefig(\"shm_energy_vs_t.png\", dpi=150, bbox_inches='tight')\n",
        "plt.close()\n",
        "\n",
        "plt.figure()\n",
        "plt.plot(x, v)\n",
        "plt.title(\"Phase Space — v(x) untuk Gerak Harmonik Sederhana\")\n",
        "plt.xlabel(\"Posisi x (m)\")\n",
        "plt.ylabel(\"Kecepatan v (m/s)\")\n",
        "plt.grid(True)\n",
        "plt.savefig(\"shm_phase_space.png\", dpi=150, bbox_inches='tight')\n",
        "plt.close()\n",
        "\n",
        "print(\"Simulasi selesai. Periode T =\", T, \"s, frekuensi f =\", f, \"Hz\")\n",
        "\n",
        "\n"
      ]
    }
  ]
}